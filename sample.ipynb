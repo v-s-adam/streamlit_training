{
 "metadata": {
  "language_info": {
   "codemirror_mode": {
    "name": "ipython",
    "version": 3
   },
   "file_extension": ".py",
   "mimetype": "text/x-python",
   "name": "python",
   "nbconvert_exporter": "python",
   "pygments_lexer": "ipython3",
   "version": "3.7.6"
  },
  "orig_nbformat": 2,
  "kernelspec": {
   "name": "python376jvsc74a57bd02282fc25a063421efd959cb26ecbbaf56ee3556d62f4fbe6ee61d20595a92c95",
   "display_name": "Python 3.7.6 64-bit ('base': conda)"
  }
 },
 "nbformat": 4,
 "nbformat_minor": 2,
 "cells": [
  {
   "cell_type": "code",
   "execution_count": 7,
   "metadata": {},
   "outputs": [],
   "source": [
    "import streamlit as st\n",
    "import numpy as np\n",
    "import pandas as pd\n",
    "from PIL import Image, ImageDraw, ImageFont"
   ]
  },
  {
   "cell_type": "code",
   "execution_count": 8,
   "metadata": {},
   "outputs": [],
   "source": [
    "df2 = pd.DataFrame(\n",
    "    np.random.rand(20,3),\n",
    "    columns=['a','b','c']\n",
    ")"
   ]
  },
  {
   "cell_type": "code",
   "execution_count": 9,
   "metadata": {},
   "outputs": [
    {
     "output_type": "execute_result",
     "data": {
      "text/plain": [
       "           a         b         c\n",
       "0   0.942174  0.415714  0.558641\n",
       "1   0.160011  0.320457  0.578163\n",
       "2   0.468008  0.449202  0.929082\n",
       "3   0.259378  0.890212  0.193578\n",
       "4   0.216432  0.724614  0.545214\n",
       "5   0.213386  0.357887  0.497257\n",
       "6   0.163975  0.727124  0.333943\n",
       "7   0.196709  0.420010  0.553304\n",
       "8   0.006927  0.130561  0.549804\n",
       "9   0.100075  0.333332  0.889836\n",
       "10  0.480473  0.998211  0.578448\n",
       "11  0.630930  0.219980  0.945763\n",
       "12  0.175854  0.104284  0.158184\n",
       "13  0.289721  0.901338  0.610712\n",
       "14  0.336840  0.811643  0.700467\n",
       "15  0.919013  0.471721  0.483343\n",
       "16  0.166165  0.137672  0.403368\n",
       "17  0.714886  0.089390  0.272899\n",
       "18  0.469589  0.515978  0.513812\n",
       "19  0.006245  0.013566  0.764846"
      ],
      "text/html": "<div>\n<style scoped>\n    .dataframe tbody tr th:only-of-type {\n        vertical-align: middle;\n    }\n\n    .dataframe tbody tr th {\n        vertical-align: top;\n    }\n\n    .dataframe thead th {\n        text-align: right;\n    }\n</style>\n<table border=\"1\" class=\"dataframe\">\n  <thead>\n    <tr style=\"text-align: right;\">\n      <th></th>\n      <th>a</th>\n      <th>b</th>\n      <th>c</th>\n    </tr>\n  </thead>\n  <tbody>\n    <tr>\n      <th>0</th>\n      <td>0.942174</td>\n      <td>0.415714</td>\n      <td>0.558641</td>\n    </tr>\n    <tr>\n      <th>1</th>\n      <td>0.160011</td>\n      <td>0.320457</td>\n      <td>0.578163</td>\n    </tr>\n    <tr>\n      <th>2</th>\n      <td>0.468008</td>\n      <td>0.449202</td>\n      <td>0.929082</td>\n    </tr>\n    <tr>\n      <th>3</th>\n      <td>0.259378</td>\n      <td>0.890212</td>\n      <td>0.193578</td>\n    </tr>\n    <tr>\n      <th>4</th>\n      <td>0.216432</td>\n      <td>0.724614</td>\n      <td>0.545214</td>\n    </tr>\n    <tr>\n      <th>5</th>\n      <td>0.213386</td>\n      <td>0.357887</td>\n      <td>0.497257</td>\n    </tr>\n    <tr>\n      <th>6</th>\n      <td>0.163975</td>\n      <td>0.727124</td>\n      <td>0.333943</td>\n    </tr>\n    <tr>\n      <th>7</th>\n      <td>0.196709</td>\n      <td>0.420010</td>\n      <td>0.553304</td>\n    </tr>\n    <tr>\n      <th>8</th>\n      <td>0.006927</td>\n      <td>0.130561</td>\n      <td>0.549804</td>\n    </tr>\n    <tr>\n      <th>9</th>\n      <td>0.100075</td>\n      <td>0.333332</td>\n      <td>0.889836</td>\n    </tr>\n    <tr>\n      <th>10</th>\n      <td>0.480473</td>\n      <td>0.998211</td>\n      <td>0.578448</td>\n    </tr>\n    <tr>\n      <th>11</th>\n      <td>0.630930</td>\n      <td>0.219980</td>\n      <td>0.945763</td>\n    </tr>\n    <tr>\n      <th>12</th>\n      <td>0.175854</td>\n      <td>0.104284</td>\n      <td>0.158184</td>\n    </tr>\n    <tr>\n      <th>13</th>\n      <td>0.289721</td>\n      <td>0.901338</td>\n      <td>0.610712</td>\n    </tr>\n    <tr>\n      <th>14</th>\n      <td>0.336840</td>\n      <td>0.811643</td>\n      <td>0.700467</td>\n    </tr>\n    <tr>\n      <th>15</th>\n      <td>0.919013</td>\n      <td>0.471721</td>\n      <td>0.483343</td>\n    </tr>\n    <tr>\n      <th>16</th>\n      <td>0.166165</td>\n      <td>0.137672</td>\n      <td>0.403368</td>\n    </tr>\n    <tr>\n      <th>17</th>\n      <td>0.714886</td>\n      <td>0.089390</td>\n      <td>0.272899</td>\n    </tr>\n    <tr>\n      <th>18</th>\n      <td>0.469589</td>\n      <td>0.515978</td>\n      <td>0.513812</td>\n    </tr>\n    <tr>\n      <th>19</th>\n      <td>0.006245</td>\n      <td>0.013566</td>\n      <td>0.764846</td>\n    </tr>\n  </tbody>\n</table>\n</div>"
     },
     "metadata": {},
     "execution_count": 9
    }
   ],
   "source": [
    "df2"
   ]
  },
  {
   "cell_type": "code",
   "execution_count": 10,
   "metadata": {},
   "outputs": [
    {
     "output_type": "execute_result",
     "data": {
      "text/plain": [
       "          lat         lon\n",
       "0   35.703769  139.718345\n",
       "1   35.696076  139.710807\n",
       "2   35.701371  139.715158\n",
       "3   35.709204  139.705312\n",
       "4   35.703548  139.706652\n",
       "..        ...         ...\n",
       "95  35.698320  139.711755\n",
       "96  35.697365  139.715981\n",
       "97  35.709421  139.711657\n",
       "98  35.706884  139.714354\n",
       "99  35.699859  139.719951\n",
       "\n",
       "[100 rows x 2 columns]"
      ],
      "text/html": "<div>\n<style scoped>\n    .dataframe tbody tr th:only-of-type {\n        vertical-align: middle;\n    }\n\n    .dataframe tbody tr th {\n        vertical-align: top;\n    }\n\n    .dataframe thead th {\n        text-align: right;\n    }\n</style>\n<table border=\"1\" class=\"dataframe\">\n  <thead>\n    <tr style=\"text-align: right;\">\n      <th></th>\n      <th>lat</th>\n      <th>lon</th>\n    </tr>\n  </thead>\n  <tbody>\n    <tr>\n      <th>0</th>\n      <td>35.703769</td>\n      <td>139.718345</td>\n    </tr>\n    <tr>\n      <th>1</th>\n      <td>35.696076</td>\n      <td>139.710807</td>\n    </tr>\n    <tr>\n      <th>2</th>\n      <td>35.701371</td>\n      <td>139.715158</td>\n    </tr>\n    <tr>\n      <th>3</th>\n      <td>35.709204</td>\n      <td>139.705312</td>\n    </tr>\n    <tr>\n      <th>4</th>\n      <td>35.703548</td>\n      <td>139.706652</td>\n    </tr>\n    <tr>\n      <th>...</th>\n      <td>...</td>\n      <td>...</td>\n    </tr>\n    <tr>\n      <th>95</th>\n      <td>35.698320</td>\n      <td>139.711755</td>\n    </tr>\n    <tr>\n      <th>96</th>\n      <td>35.697365</td>\n      <td>139.715981</td>\n    </tr>\n    <tr>\n      <th>97</th>\n      <td>35.709421</td>\n      <td>139.711657</td>\n    </tr>\n    <tr>\n      <th>98</th>\n      <td>35.706884</td>\n      <td>139.714354</td>\n    </tr>\n    <tr>\n      <th>99</th>\n      <td>35.699859</td>\n      <td>139.719951</td>\n    </tr>\n  </tbody>\n</table>\n<p>100 rows × 2 columns</p>\n</div>"
     },
     "metadata": {},
     "execution_count": 10
    }
   ],
   "source": [
    "df3 = pd.DataFrame(\n",
    "    np.random.rand(100,2)/[50,50] + [35.69,139.70],\n",
    "    columns=['lat','lon']\n",
    ")\n",
    "df3"
   ]
  },
  {
   "cell_type": "code",
   "execution_count": null,
   "metadata": {},
   "outputs": [],
   "source": []
  },
  {
   "cell_type": "code",
   "execution_count": null,
   "metadata": {},
   "outputs": [],
   "source": []
  },
  {
   "cell_type": "code",
   "execution_count": null,
   "metadata": {},
   "outputs": [],
   "source": []
  }
 ]
}